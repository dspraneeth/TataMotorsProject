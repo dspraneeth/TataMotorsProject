{
 "cells": [
  {
   "cell_type": "code",
   "execution_count": 1,
   "id": "74bcb41a",
   "metadata": {},
   "outputs": [],
   "source": [
    "import pandas as pd\n",
    "import mysql.connector as sql\n",
    "from mysql.connector import Error\n",
    "\n",
    "\n",
    "regions = pd.read_csv('region.csv', index_col=False)\n",
    "cars = pd.read_csv('car_details.csv', index_col=False)\n",
    "branches = pd.read_csv('branch_details.csv', index_col=False)\n",
    "customers = pd.read_csv('customers.csv', index_col=False)\n",
    "sales_data = pd.read_csv('sales_data.csv', index_col=False)\n",
    "\n",
    "\n"
   ]
  },
  {
   "cell_type": "code",
   "execution_count": 2,
   "id": "f04537fd",
   "metadata": {},
   "outputs": [],
   "source": [
    "from tabulate import tabulate"
   ]
  },
  {
   "cell_type": "code",
   "execution_count": 3,
   "id": "f1a5f2f4",
   "metadata": {},
   "outputs": [],
   "source": [
    "try:\n",
    "    conn = sql.connect(host='localhost', user='root', password='password')\n",
    "    if conn.is_connected():\n",
    "        cursor = conn.cursor()\n",
    "        cursor.execute(\"USE TATA_MOTORS\")\n",
    "except Error as e:\n",
    "    print(\"Error\")\n"
   ]
  },
  {
   "cell_type": "code",
   "execution_count": 8,
   "id": "020a0d1f",
   "metadata": {},
   "outputs": [
    {
     "name": "stdout",
     "output_type": "stream",
     "text": [
      "record inserted!\n",
      "record inserted!\n",
      "record inserted!\n",
      "record inserted!\n"
     ]
    }
   ],
   "source": [
    "# For Inserting Data from Region into tables\n",
    "\n",
    "try:\n",
    "    for i,row in regions.iterrows():\n",
    "        sql = \"INSERT INTO TATA_MOTORS.REGION VALUES (%s)\"\n",
    "        cursor.execute(sql, tuple(row))\n",
    "        print('record inserted!')\n",
    "        conn.commit()\n",
    "except Error as e:\n",
    "    print('Trouble inserting the data')\n",
    "    print(e)"
   ]
  },
  {
   "cell_type": "code",
   "execution_count": 9,
   "id": "a9d22efb",
   "metadata": {},
   "outputs": [
    {
     "name": "stdout",
     "output_type": "stream",
     "text": [
      "record inserted!\n",
      "record inserted!\n",
      "record inserted!\n",
      "record inserted!\n",
      "record inserted!\n",
      "record inserted!\n",
      "record inserted!\n",
      "record inserted!\n",
      "record inserted!\n",
      "record inserted!\n",
      "record inserted!\n",
      "record inserted!\n",
      "record inserted!\n",
      "record inserted!\n",
      "record inserted!\n"
     ]
    }
   ],
   "source": [
    "# inserting data from Cars into car_details table\n",
    "try:\n",
    "    for i,row in cars.iterrows():\n",
    "        query = \"INSERT INTO TATA_MOTORS.CAR_DETAILS VALUES (%s,%s,%s,%s)\"\n",
    "        cursor.execute(query, tuple(row))\n",
    "        print('record inserted!')\n",
    "        conn.commit()\n",
    "except Error as e:\n",
    "    print('Trouble inserting the data')\n",
    "    print(e)\n",
    "    "
   ]
  },
  {
   "cell_type": "code",
   "execution_count": 10,
   "id": "ae2f4111",
   "metadata": {},
   "outputs": [
    {
     "name": "stdout",
     "output_type": "stream",
     "text": [
      "record inserted!\n",
      "record inserted!\n",
      "record inserted!\n",
      "record inserted!\n",
      "record inserted!\n",
      "record inserted!\n",
      "record inserted!\n",
      "record inserted!\n",
      "record inserted!\n",
      "record inserted!\n",
      "record inserted!\n",
      "record inserted!\n",
      "record inserted!\n",
      "record inserted!\n",
      "record inserted!\n",
      "record inserted!\n"
     ]
    }
   ],
   "source": [
    "# inserting data from branches to branch_details\n",
    "try:\n",
    "    for i,row in branches.iterrows():\n",
    "        query = \"INSERT INTO TATA_MOTORS.BRANCH_DETAILS VALUES (%s,%s,%s,%s)\"\n",
    "        cursor.execute(query, tuple(row))\n",
    "        print('record inserted!')\n",
    "        conn.commit()\n",
    "except Error as e:\n",
    "    print('Trouble inserting the data')\n",
    "    print(e)"
   ]
  },
  {
   "cell_type": "code",
   "execution_count": 11,
   "id": "8aa7a6e6",
   "metadata": {},
   "outputs": [
    {
     "name": "stdout",
     "output_type": "stream",
     "text": [
      "record inserted!\n",
      "record inserted!\n",
      "record inserted!\n",
      "record inserted!\n",
      "record inserted!\n",
      "record inserted!\n",
      "record inserted!\n",
      "record inserted!\n",
      "record inserted!\n",
      "record inserted!\n",
      "record inserted!\n",
      "record inserted!\n",
      "record inserted!\n",
      "record inserted!\n",
      "record inserted!\n",
      "record inserted!\n",
      "record inserted!\n",
      "record inserted!\n",
      "record inserted!\n",
      "record inserted!\n",
      "record inserted!\n",
      "record inserted!\n",
      "record inserted!\n",
      "record inserted!\n",
      "record inserted!\n",
      "record inserted!\n",
      "record inserted!\n",
      "record inserted!\n",
      "record inserted!\n",
      "record inserted!\n",
      "record inserted!\n",
      "record inserted!\n",
      "record inserted!\n",
      "record inserted!\n",
      "record inserted!\n",
      "record inserted!\n",
      "record inserted!\n",
      "record inserted!\n",
      "record inserted!\n",
      "record inserted!\n",
      "record inserted!\n",
      "record inserted!\n",
      "record inserted!\n",
      "record inserted!\n",
      "record inserted!\n",
      "record inserted!\n",
      "record inserted!\n",
      "record inserted!\n",
      "record inserted!\n",
      "record inserted!\n",
      "record inserted!\n"
     ]
    }
   ],
   "source": [
    "# inserting into customer_details table\n",
    "try:\n",
    "    for i,row in customers.iterrows():\n",
    "        query = \"INSERT INTO TATA_MOTORS.CUSTOMER_DETAILS VALUES (%s,%s,%s,%s,%s,%s)\"\n",
    "        cursor.execute(query, tuple(row))\n",
    "        print('record inserted!')\n",
    "        conn.commit()\n",
    "except Error as e:\n",
    "    print('Trouble inserting the data')\n",
    "    print(e)"
   ]
  },
  {
   "cell_type": "code",
   "execution_count": 25,
   "id": "038c4659",
   "metadata": {},
   "outputs": [
    {
     "name": "stdout",
     "output_type": "stream",
     "text": [
      "record inserted!\n",
      "record inserted!\n",
      "record inserted!\n",
      "record inserted!\n",
      "record inserted!\n",
      "record inserted!\n",
      "record inserted!\n",
      "record inserted!\n",
      "record inserted!\n",
      "record inserted!\n",
      "record inserted!\n",
      "record inserted!\n",
      "record inserted!\n",
      "record inserted!\n",
      "record inserted!\n",
      "record inserted!\n",
      "record inserted!\n",
      "record inserted!\n",
      "record inserted!\n",
      "record inserted!\n",
      "record inserted!\n",
      "record inserted!\n",
      "record inserted!\n",
      "record inserted!\n",
      "record inserted!\n",
      "record inserted!\n",
      "record inserted!\n",
      "record inserted!\n",
      "record inserted!\n",
      "record inserted!\n",
      "record inserted!\n",
      "record inserted!\n",
      "record inserted!\n",
      "record inserted!\n",
      "record inserted!\n",
      "record inserted!\n",
      "record inserted!\n",
      "record inserted!\n",
      "record inserted!\n",
      "record inserted!\n",
      "record inserted!\n",
      "record inserted!\n",
      "record inserted!\n",
      "record inserted!\n",
      "record inserted!\n",
      "record inserted!\n",
      "record inserted!\n",
      "record inserted!\n",
      "record inserted!\n",
      "record inserted!\n",
      "record inserted!\n",
      "record inserted!\n",
      "record inserted!\n",
      "record inserted!\n",
      "record inserted!\n",
      "record inserted!\n",
      "record inserted!\n",
      "record inserted!\n",
      "record inserted!\n",
      "record inserted!\n",
      "record inserted!\n",
      "record inserted!\n",
      "record inserted!\n",
      "record inserted!\n",
      "record inserted!\n",
      "record inserted!\n",
      "record inserted!\n",
      "record inserted!\n",
      "record inserted!\n",
      "record inserted!\n",
      "record inserted!\n",
      "record inserted!\n",
      "record inserted!\n",
      "record inserted!\n",
      "record inserted!\n",
      "record inserted!\n",
      "record inserted!\n",
      "record inserted!\n",
      "record inserted!\n",
      "record inserted!\n",
      "record inserted!\n",
      "record inserted!\n",
      "record inserted!\n",
      "record inserted!\n",
      "record inserted!\n",
      "record inserted!\n",
      "record inserted!\n",
      "record inserted!\n",
      "record inserted!\n",
      "record inserted!\n",
      "record inserted!\n",
      "record inserted!\n",
      "record inserted!\n",
      "record inserted!\n",
      "record inserted!\n",
      "record inserted!\n",
      "record inserted!\n",
      "record inserted!\n",
      "record inserted!\n",
      "record inserted!\n",
      "record inserted!\n",
      "record inserted!\n",
      "record inserted!\n",
      "record inserted!\n",
      "record inserted!\n",
      "record inserted!\n",
      "record inserted!\n",
      "record inserted!\n",
      "record inserted!\n",
      "record inserted!\n",
      "record inserted!\n",
      "record inserted!\n",
      "record inserted!\n",
      "record inserted!\n",
      "record inserted!\n",
      "record inserted!\n",
      "record inserted!\n",
      "record inserted!\n",
      "record inserted!\n",
      "record inserted!\n",
      "record inserted!\n"
     ]
    }
   ],
   "source": [
    "# changing the sale date to correct format\n",
    "sales_data['SALE_DATE'] = sales_data['SALE_DATE'].astype(str)\n",
    "\n",
    "# inserting sales data into sales_data table\n",
    "try:\n",
    "    for i,row in sales_data.iterrows():\n",
    "        query = \"INSERT INTO TATA_MOTORS.SALES_DATA (SALE_ID, BRANCH_ID, CUSTOMER_ID, CAR_MODEL, SALE_DATE, NUM_PLATE) VALUES (%s,%s,%s,%s,%s,%s)\"\n",
    "        cursor.execute(query, (None,row[1],row[2],row[3],row[4],row[5]))\n",
    "        print('record inserted!')\n",
    "        conn.commit()\n",
    "except Error as e:\n",
    "    print('Trouble inserting the data')\n",
    "    print(e)"
   ]
  },
  {
   "cell_type": "code",
   "execution_count": 3,
   "id": "3e7eccb7",
   "metadata": {},
   "outputs": [],
   "source": [
    "# for service id use None\n",
    "# for branch id\n",
    "import random\n",
    "import numpy as np"
   ]
  },
  {
   "cell_type": "code",
   "execution_count": 4,
   "id": "d7f9d349",
   "metadata": {},
   "outputs": [
    {
     "data": {
      "text/plain": [
       "'S4'"
      ]
     },
     "execution_count": 4,
     "metadata": {},
     "output_type": "execute_result"
    }
   ],
   "source": [
    "branch_id = np.array(branches['BRANCH_ID'])\n",
    "branch_id[random.randint(0,15)]"
   ]
  },
  {
   "cell_type": "code",
   "execution_count": 5,
   "id": "f1aa0eea",
   "metadata": {},
   "outputs": [],
   "source": [
    "# for service date\n",
    "import datetime"
   ]
  },
  {
   "cell_type": "code",
   "execution_count": 6,
   "id": "f4051810",
   "metadata": {},
   "outputs": [],
   "source": [
    "start_date = datetime.date(2022, 3, 1)\n",
    "end_date = datetime.date(2022, 3, 7)\n",
    "\n",
    "def rndt(start_date, end_date):\n",
    "    time_between_dates = end_date - start_date\n",
    "    days_between_dates = time_between_dates.days\n",
    "    random_number_of_days = random.randrange(days_between_dates)\n",
    "    random_date = start_date + datetime.timedelta(days=random_number_of_days)\n",
    "    return str(random_date)\n",
    "    #return random_date\n",
    "    "
   ]
  },
  {
   "cell_type": "code",
   "execution_count": 7,
   "id": "f94918b4",
   "metadata": {},
   "outputs": [
    {
     "data": {
      "text/plain": [
       "'2022-03-05'"
      ]
     },
     "execution_count": 7,
     "metadata": {},
     "output_type": "execute_result"
    }
   ],
   "source": [
    "rndt(start_date, end_date)"
   ]
  },
  {
   "cell_type": "code",
   "execution_count": 8,
   "id": "dbf51ccd",
   "metadata": {},
   "outputs": [
    {
     "data": {
      "text/plain": [
       "203"
      ]
     },
     "execution_count": 8,
     "metadata": {},
     "output_type": "execute_result"
    }
   ],
   "source": [
    "# For Customer_id\n",
    "cust_id = np.array(customers['CUST_ID'])\n",
    "cust_id[random.randint(0,39)]"
   ]
  },
  {
   "cell_type": "code",
   "execution_count": 9,
   "id": "9656c258",
   "metadata": {},
   "outputs": [
    {
     "data": {
      "text/plain": [
       "'114'"
      ]
     },
     "execution_count": 9,
     "metadata": {},
     "output_type": "execute_result"
    }
   ],
   "source": [
    "# For Sale id\n",
    "str(random.randint(0,120))"
   ]
  },
  {
   "cell_type": "code",
   "execution_count": 10,
   "id": "12b6bb95",
   "metadata": {},
   "outputs": [
    {
     "name": "stdout",
     "output_type": "stream",
     "text": [
      "E1\n",
      "2022-03-03\n",
      "204\n",
      "112\n",
      "FIRST\n"
     ]
    }
   ],
   "source": [
    "print(branch_id[random.randint(0,15)]) #branch id\n",
    "print(rndt(start_date, end_date)) # service date\n",
    "print(str(cust_id[random.randint(0,39)])) # customer_id\n",
    "print(str(random.randint(0,120))) #sale id\n",
    "print(random.choice(['FIRST', 'SECOND', 'THIRD'])) # service type\n",
    "count = 0"
   ]
  },
  {
   "cell_type": "code",
   "execution_count": 274,
   "id": "7189267b",
   "metadata": {},
   "outputs": [
    {
     "name": "stdout",
     "output_type": "stream",
     "text": [
      "70 no. record inserted!\n"
     ]
    }
   ],
   "source": [
    "query = \"INSERT INTO TATA_MOTORS.SERVICE_DATA VALUES (%s,%s,%s,%s,%s,%s)\"\n",
    "cursor.execute(query, (None, branch_id[random.randint(0,15)], rndt(start_date, end_date), str(cust_id[random.randint(0,120)]), str(random.randint(0,39)), random.choice(['FIRST', 'SECOND', 'THIRD'])))\n",
    "count += 1\n",
    "\n",
    "print(f'{count} no. record inserted!')\n",
    "conn.commit()"
   ]
  },
  {
   "cell_type": "code",
   "execution_count": 9,
   "id": "38287341",
   "metadata": {},
   "outputs": [
    {
     "ename": "DatabaseError",
     "evalue": "2014 (HY000): Commands out of sync; you can't run this command now",
     "output_type": "error",
     "traceback": [
      "\u001b[1;31m---------------------------------------------------------------------------\u001b[0m",
      "\u001b[1;31mMySQLInterfaceError\u001b[0m                       Traceback (most recent call last)",
      "File \u001b[1;32m~\\AppData\\Local\\Programs\\Python\\Python310\\lib\\site-packages\\mysql\\connector\\connection_cext.py:535\u001b[0m, in \u001b[0;36mCMySQLConnection.cmd_query\u001b[1;34m(self, query, raw, buffered, raw_as_string)\u001b[0m\n\u001b[0;32m    534\u001b[0m         query \u001b[38;5;241m=\u001b[39m query\u001b[38;5;241m.\u001b[39mencode(\u001b[38;5;124m'\u001b[39m\u001b[38;5;124mutf-8\u001b[39m\u001b[38;5;124m'\u001b[39m)\n\u001b[1;32m--> 535\u001b[0m     \u001b[38;5;28;43mself\u001b[39;49m\u001b[38;5;241;43m.\u001b[39;49m\u001b[43m_cmysql\u001b[49m\u001b[38;5;241;43m.\u001b[39;49m\u001b[43mquery\u001b[49m\u001b[43m(\u001b[49m\u001b[43mquery\u001b[49m\u001b[43m,\u001b[49m\n\u001b[0;32m    536\u001b[0m \u001b[43m                       \u001b[49m\u001b[43mraw\u001b[49m\u001b[38;5;241;43m=\u001b[39;49m\u001b[43mraw\u001b[49m\u001b[43m,\u001b[49m\u001b[43m \u001b[49m\u001b[43mbuffered\u001b[49m\u001b[38;5;241;43m=\u001b[39;49m\u001b[43mbuffered\u001b[49m\u001b[43m,\u001b[49m\n\u001b[0;32m    537\u001b[0m \u001b[43m                       \u001b[49m\u001b[43mraw_as_string\u001b[49m\u001b[38;5;241;43m=\u001b[39;49m\u001b[43mraw_as_string\u001b[49m\u001b[43m,\u001b[49m\n\u001b[0;32m    538\u001b[0m \u001b[43m                       \u001b[49m\u001b[43mquery_attrs\u001b[49m\u001b[38;5;241;43m=\u001b[39;49m\u001b[38;5;28;43mself\u001b[39;49m\u001b[38;5;241;43m.\u001b[39;49m\u001b[43m_query_attrs\u001b[49m\u001b[43m)\u001b[49m\n\u001b[0;32m    539\u001b[0m \u001b[38;5;28;01mexcept\u001b[39;00m MySQLInterfaceError \u001b[38;5;28;01mas\u001b[39;00m exc:\n",
      "\u001b[1;31mMySQLInterfaceError\u001b[0m: Commands out of sync; you can't run this command now",
      "\nDuring handling of the above exception, another exception occurred:\n",
      "\u001b[1;31mDatabaseError\u001b[0m                             Traceback (most recent call last)",
      "Input \u001b[1;32mIn [9]\u001b[0m, in \u001b[0;36m<cell line: 4>\u001b[1;34m()\u001b[0m\n\u001b[0;32m      1\u001b[0m \u001b[38;5;66;03m# QUES 1\u001b[39;00m\n\u001b[0;32m      2\u001b[0m query \u001b[38;5;241m=\u001b[39m \u001b[38;5;124m\"\"\"\u001b[39m\u001b[38;5;124mSELECT CUSTOMER_ID FROM TATA_MOTORS.SERVICE_DATA WHERE WEEK(SERVICE_DATE) = 1;\u001b[39m\u001b[38;5;124m\"\"\"\u001b[39m\n\u001b[1;32m----> 4\u001b[0m result \u001b[38;5;241m=\u001b[39m \u001b[43mcursor\u001b[49m\u001b[38;5;241;43m.\u001b[39;49m\u001b[43mexecute\u001b[49m\u001b[43m(\u001b[49m\u001b[43mquery\u001b[49m\u001b[43m)\u001b[49m\n\u001b[0;32m      5\u001b[0m result \u001b[38;5;241m=\u001b[39m cursor\u001b[38;5;241m.\u001b[39mfetchall()\n\u001b[0;32m      7\u001b[0m \u001b[38;5;28mprint\u001b[39m(tabulate(result))\n",
      "File \u001b[1;32m~\\AppData\\Local\\Programs\\Python\\Python310\\lib\\site-packages\\mysql\\connector\\cursor_cext.py:269\u001b[0m, in \u001b[0;36mCMySQLCursor.execute\u001b[1;34m(self, operation, params, multi)\u001b[0m\n\u001b[0;32m    265\u001b[0m             \u001b[38;5;28;01mraise\u001b[39;00m errors\u001b[38;5;241m.\u001b[39mProgrammingError(\n\u001b[0;32m    266\u001b[0m                 \u001b[38;5;124m\"\u001b[39m\u001b[38;5;124mNot all parameters were used in the SQL statement\u001b[39m\u001b[38;5;124m\"\u001b[39m)\n\u001b[0;32m    268\u001b[0m \u001b[38;5;28;01mtry\u001b[39;00m:\n\u001b[1;32m--> 269\u001b[0m     result \u001b[38;5;241m=\u001b[39m \u001b[38;5;28;43mself\u001b[39;49m\u001b[38;5;241;43m.\u001b[39;49m\u001b[43m_cnx\u001b[49m\u001b[38;5;241;43m.\u001b[39;49m\u001b[43mcmd_query\u001b[49m\u001b[43m(\u001b[49m\u001b[43mstmt\u001b[49m\u001b[43m,\u001b[49m\u001b[43m \u001b[49m\u001b[43mraw\u001b[49m\u001b[38;5;241;43m=\u001b[39;49m\u001b[38;5;28;43mself\u001b[39;49m\u001b[38;5;241;43m.\u001b[39;49m\u001b[43m_raw\u001b[49m\u001b[43m,\u001b[49m\n\u001b[0;32m    270\u001b[0m \u001b[43m                                 \u001b[49m\u001b[43mbuffered\u001b[49m\u001b[38;5;241;43m=\u001b[39;49m\u001b[38;5;28;43mself\u001b[39;49m\u001b[38;5;241;43m.\u001b[39;49m\u001b[43m_buffered\u001b[49m\u001b[43m,\u001b[49m\n\u001b[0;32m    271\u001b[0m \u001b[43m                                 \u001b[49m\u001b[43mraw_as_string\u001b[49m\u001b[38;5;241;43m=\u001b[39;49m\u001b[38;5;28;43mself\u001b[39;49m\u001b[38;5;241;43m.\u001b[39;49m\u001b[43m_raw_as_string\u001b[49m\u001b[43m)\u001b[49m\n\u001b[0;32m    272\u001b[0m \u001b[38;5;28;01mexcept\u001b[39;00m MySQLInterfaceError \u001b[38;5;28;01mas\u001b[39;00m exc:\n\u001b[0;32m    273\u001b[0m     \u001b[38;5;28;01mraise\u001b[39;00m errors\u001b[38;5;241m.\u001b[39mget_mysql_exception(msg\u001b[38;5;241m=\u001b[39mexc\u001b[38;5;241m.\u001b[39mmsg, errno\u001b[38;5;241m=\u001b[39mexc\u001b[38;5;241m.\u001b[39merrno,\n\u001b[0;32m    274\u001b[0m                                      sqlstate\u001b[38;5;241m=\u001b[39mexc\u001b[38;5;241m.\u001b[39msqlstate)\n",
      "File \u001b[1;32m~\\AppData\\Local\\Programs\\Python\\Python310\\lib\\site-packages\\mysql\\connector\\connection_cext.py:540\u001b[0m, in \u001b[0;36mCMySQLConnection.cmd_query\u001b[1;34m(self, query, raw, buffered, raw_as_string)\u001b[0m\n\u001b[0;32m    535\u001b[0m     \u001b[38;5;28mself\u001b[39m\u001b[38;5;241m.\u001b[39m_cmysql\u001b[38;5;241m.\u001b[39mquery(query,\n\u001b[0;32m    536\u001b[0m                        raw\u001b[38;5;241m=\u001b[39mraw, buffered\u001b[38;5;241m=\u001b[39mbuffered,\n\u001b[0;32m    537\u001b[0m                        raw_as_string\u001b[38;5;241m=\u001b[39mraw_as_string,\n\u001b[0;32m    538\u001b[0m                        query_attrs\u001b[38;5;241m=\u001b[39m\u001b[38;5;28mself\u001b[39m\u001b[38;5;241m.\u001b[39m_query_attrs)\n\u001b[0;32m    539\u001b[0m \u001b[38;5;28;01mexcept\u001b[39;00m MySQLInterfaceError \u001b[38;5;28;01mas\u001b[39;00m exc:\n\u001b[1;32m--> 540\u001b[0m     \u001b[38;5;28;01mraise\u001b[39;00m errors\u001b[38;5;241m.\u001b[39mget_mysql_exception(exc\u001b[38;5;241m.\u001b[39merrno, msg\u001b[38;5;241m=\u001b[39mexc\u001b[38;5;241m.\u001b[39mmsg,\n\u001b[0;32m    541\u001b[0m                                      sqlstate\u001b[38;5;241m=\u001b[39mexc\u001b[38;5;241m.\u001b[39msqlstate)\n\u001b[0;32m    542\u001b[0m \u001b[38;5;28;01mexcept\u001b[39;00m \u001b[38;5;167;01mAttributeError\u001b[39;00m:\n\u001b[0;32m    543\u001b[0m     \u001b[38;5;28;01mif\u001b[39;00m \u001b[38;5;28mself\u001b[39m\u001b[38;5;241m.\u001b[39m_unix_socket:\n",
      "\u001b[1;31mDatabaseError\u001b[0m: 2014 (HY000): Commands out of sync; you can't run this command now"
     ]
    }
   ],
   "source": [
    "# QUES 1\n",
    "query = \"\"\"SELECT CUSTOMER_ID FROM TATA_MOTORS.SERVICE_DATA WHERE WEEK(SERVICE_DATE) = 1;\"\"\"\n",
    "\n",
    "result = cursor.execute(query)\n",
    "result = cursor.fetchall()\n",
    "\n",
    "print(tabulate(result))"
   ]
  },
  {
   "cell_type": "code",
   "execution_count": 8,
   "id": "13a15ba1",
   "metadata": {},
   "outputs": [
    {
     "name": "stdout",
     "output_type": "stream",
     "text": [
      "---  --  ---  ---------  ----------  ----------\n",
      "  1  N1  101  HAR202SUV  2022-01-10  KA01B1453\n",
      "  2  E3  101  TIG101SED  2022-01-25  KA01AC2009\n",
      "  3  S2  101  ALT303HAT  2022-01-05  KA01V0009\n",
      "  4  W2  102  SAF303SUV  2022-01-02  KA12AA0001\n",
      "  5  E2  103  ALT202HAT  2022-01-13  KA03ED0897\n",
      "  6  N3  103  TIG202SED  2022-01-23  KA03FD2356\n",
      "  7  W4  104  TIA101HAT  2022-01-03  KA04RR3333\n",
      "  8  N4  104  TIG303SED  2022-01-15  KA04EF9098\n",
      "  9  N2  104  HAR202SUV  2022-01-31  KA04WS9908\n",
      " 10  N3  105  TIA101HAT  2022-01-02  KA05G5641\n",
      " 11  W1  105  SAF303SUV  2022-01-26  KA05BN6656\n",
      " 12  E4  106  HAR101SUV  2022-01-30  KA13HH3344\n",
      " 13  S4  107  TIG202SED  2022-01-23  KA15TT4341\n",
      " 14  N2  107  TIG101SED  2022-01-24  KA15TT4342\n",
      " 15  E3  108  TIA101HAT  2022-01-05  KA10TA1111\n",
      " 16  S3  108  TIA101HAT  2022-01-06  KA10TA1112\n",
      " 17  S1  109  SAF303SUV  2022-01-15  KA10GG2937\n",
      " 18  W3  110  TIA101HAT  2022-01-22  KA09U4344\n",
      " 19  W3  110  TIA101HAT  2022-01-23  KA09U4345\n",
      " 20  W4  110  TIG101SED  2022-01-24  KA09UA3444\n",
      " 21  E1  201  HAR101SUV  2022-01-11  KA016220\n",
      " 22  E1  201  SAF202SUV  2022-02-12  KA016221\n",
      " 23  E1  201  TIG202SED  2022-03-13  KA016222\n",
      " 24  E2  202  ALT303HAT  2022-01-01  KA016223\n",
      " 25  E2  202  HAR202SUV  2022-02-02  KA026224\n",
      " 26  E3  202  TIG202SED  2022-03-03  KA026225\n",
      " 27  E4  203  HAR101SUV  2022-02-02  KA026226\n",
      " 28  E4  203  SAF202SUV  2022-02-03  KA026227\n",
      " 29  N1  203  HAR303SUV  2022-03-03  KA031234\n",
      " 30  N1  204  ALT202HAT  2022-01-10  KA041235\n",
      " 31  N2  204  HAR303SUV  2022-02-11  KA051236\n",
      " 32  N3  204  SAF101SUV  2022-03-12  KA051237\n",
      " 33  N4  205  TIA101HAT  2022-01-14  KA061238\n",
      " 34  N2  205  HAR202SUV  2022-01-15  KA061239\n",
      " 35  S1  205  TIA303HAT  2022-01-16  KA061240\n",
      " 36  S1  206  HAR101SUV  2022-01-17  KA031235\n",
      " 37  S2  206  TIA101HAT  2022-02-18  KA031236\n",
      " 38  S3  207  TIA303HAT  2022-03-20  KA091234\n",
      " 39  S3  207  SAF202SUV  2022-03-21  KA091235\n",
      " 40  S4  208  TIA202HAT  2022-01-22  KA101212\n",
      " 41  W1  208  TIA303HAT  2022-01-23  KA101213\n",
      " 42  W2  209  HAR303SUV  2022-01-20  KA101214\n",
      " 43  W3  209  SAF303SUV  2022-02-21  KA101215\n",
      " 44  W4  210  TIA303HAT  2022-02-28  KA101216\n",
      " 45  W1  210  HAR101SUV  2022-01-27  KA101217\n",
      " 46  W2  211  SAF101SUV  2022-03-13  KA101218\n",
      " 47  W3  211  HAR202SUV  2022-03-14  KA111122\n",
      " 48  W4  212  TIA303HAT  2022-01-19  KA111123\n",
      " 49  E1  212  TIG101SED  1900-01-01  KA111124\n",
      " 50  N1  213  HAR101SUV  2022-03-14  KA111125\n",
      " 51  S1  213  SAF303SUV  2022-02-03  KA111126\n",
      " 52  W1  214  SAF202SUV  2022-03-14  KA111127\n",
      " 53  E2  214  TIA202HAT  2022-02-03  KA111128\n",
      " 54  W2  215  SAF101SUV  2022-03-03  KA111129\n",
      " 55  N2  215  HAR303SUV  2022-03-03  KA111130\n",
      " 56  S2  216  TIA303HAT  1900-01-01  KA111131\n",
      " 57  E3  216  HAR202SUV  2022-03-03  KA121232\n",
      " 58  W3  217  SAF303SUV  2022-03-14  KA121233\n",
      " 59  N3  218  TIA303HAT  2022-03-03  KA121234\n",
      " 60  S3  219  SAF101SUV  2022-03-03  KA121236\n",
      " 61  E4  220  HAR101SUV  2022-02-03  KA121237\n",
      " 62  W4  221  HAR202SUV  1900-01-01  KA121339\n",
      " 63  N1  301  HAR303SUV  2022-01-22  KA11HK3456\n",
      " 64  W4  301  SAF303SUV  2022-01-30  KA11JJ8897\n",
      " 65  S1  301  ALT303HAT  2022-01-12  KA11AS2367\n",
      " 66  E3  302  SAF101SUV  2022-01-03  KA14DF3478\n",
      " 67  E1  302  ALT202HAT  2022-01-30  KA02KJ1094\n",
      " 68  W1  303  TIA303HAT  2022-01-26  KA04SD6758\n",
      " 69  W3  304  TIG202SED  2022-01-23  KA10ST0010\n",
      " 70  S2  304  TIA202HAT  2022-01-15  KA06RD0005\n",
      " 71  E1  305  TIG303SED  2022-01-06  KA05VV0281\n",
      " 72  E2  306  HAR202SUV  2022-01-15  KA07SG2004\n",
      " 73  W4  306  SAF202SUV  2022-01-30  KA08YS0036\n",
      " 74  N3  307  ALT303HAT  2022-01-23  KA16MP3011\n",
      " 75  N2  308  TIA202HAT  2022-01-22  KA18SS2007\n",
      " 76  N1  309  ALT303HAT  2022-01-30  KA12UM0014\n",
      " 77  S1  310  HAR303SUV  2022-01-31  KA15BK2008\n",
      " 78  W2  310  SAF303SUV  2022-01-26  KA08YC0006\n",
      " 79  S2  310  ALT303HAT  2022-01-15  KA05RS0045\n",
      " 80  E1  303  HAR303SUV  2022-01-24  KA01VK0018\n",
      " 81  W4  308  ALT303HAT  2022-01-23  KA11MS2011\n",
      " 82  E4  401  ALT202HAT  2022-01-22  KA12AD2012\n",
      " 83  E4  402  SAF303SUV  2022-01-08  KA08IO4560\n",
      " 84  E4  403  TIG303SED  2022-01-28  KA09YU7532\n",
      " 85  E4  404  SAF202SUV  2022-01-06  KA45HJ7860\n",
      " 86  S3  404  HAR202SUV  2022-01-09  KA67KL5678\n",
      " 87  S3  405  TIA202HAT  2022-01-12  KA45JK2456\n",
      " 88  S3  406  HAR101SUV  2022-01-12  KA67GH6735\n",
      " 89  S4  406  HAR202SUV  2022-01-16  KA34JI7489\n",
      " 90  S4  408  HAR303SUV  2022-01-23  KA89GH2359\n",
      " 91  S4  405  HAR303SUV  2022-01-16  KA23LK7865\n",
      " 92  E1  406  SAF202SUV  2022-01-15  KA46ER7856\n",
      " 93  E1  408  SAF303SUV  2022-01-14  KA34KJ2345\n",
      " 94  E2  409  TIA202HAT  2022-01-19  KA78TY4562\n",
      " 95  E2  405  TIA303HAT  2022-01-13  KA56KC5623\n",
      " 96  E2  403  TIA202HAT  2022-01-17  KA34DS1234\n",
      " 97  E3  406  TIG202SED  2022-03-01  KA78GH2567\n",
      " 98  E3  401  SAF303SUV  2022-01-02  KA35BN4532\n",
      " 99  W1  401  HAR303SUV  2022-01-04  KA54FG8965\n",
      "100  W1  402  ALT303HAT  2022-01-06  KA35MV5488\n",
      "101  W1  403  HAR101SUV  2022-01-08  KA67AD3578\n",
      "102  W1  409  TIA202HAT  2022-01-09  KA78FH9427\n",
      "103  W2  403  SAF202SUV  2022-01-05  KA75HK5239\n",
      "104  W2  402  HAR303SUV  2022-01-18  KA86DGT863\n",
      "105  W2  407  TIG202SED  2022-01-26  KA45GJ6838\n",
      "106  W3  408  ALT202HAT  2022-01-24  KA79HS5643\n",
      "107  W3  410  TIG303SED  2022-01-27  KA68GF5686\n",
      "108  S1  406  SAF303SUV  2022-01-19  KA86FG6357\n",
      "109  S1  407  SAF202SUV  2022-01-17  KA56GH538\n",
      "110  S3  403  SAF101SUV  2022-01-26  KA98GD4378\n",
      "111  S4  410  TIG303SED  2022-01-04  KA57GJ3432\n",
      "112  N1  406  SAF101SUV  2022-01-01  KA65JH6723\n",
      "113  N1  403  HAR101SUV  2022-01-02  KA78KJ2867\n",
      "114  N2  409  HAR202SUV  2022-01-03  KA65BK6453\n",
      "115  N2  401  HAR303SUV  2022-01-04  KA56KH3490\n",
      "116  N3  410  SAF202SUV  2022-01-05  KA45HK1457\n",
      "117  N3  405  SAF303SUV  2022-01-11  KA56JH9021\n",
      "118  N4  410  TIG101SED  2022-01-15  KA54BN5478\n",
      "119  N4  406  TIG202SED  2022-01-21  KA90ER2356\n",
      "120  N4  404  TIG303SED  2022-01-25  KA56VB7954\n",
      "121  N4  407  ALT101HAT  2022-01-28  KA45GK7834\n",
      "---  --  ---  ---------  ----------  ----------\n"
     ]
    }
   ],
   "source": [
    "# QUES 2\n",
    "query=\"\"\" \n",
    "select * from TATA_MOTORS.sales_data;\n",
    "SELECT * , RANK ()  OVER ( ORDER BY TOTAL_SALES DESC) AS RANK_SALES FROM (\n",
    "select BRANCH_ID,COUNT(SALE_ID) AS TOTAL_SALES from sales_data\n",
    "WHERE WEEK(SALE_DATE) = 1 OR 2 OR 3 \n",
    "group by branch_id ) X\n",
    "\"\"\"\n",
    "result = cursor.execute(query)\n",
    "result = cursor.fetchall()\n",
    "\n",
    "print(tabulate(result))"
   ]
  },
  {
   "cell_type": "code",
   "execution_count": 7,
   "id": "e60b212d",
   "metadata": {},
   "outputs": [
    {
     "name": "stdout",
     "output_type": "stream",
     "text": [
      "--  ---\n",
      "S2  116\n",
      "--  ---\n"
     ]
    }
   ],
   "source": [
    "# QUES 3\n",
    "query = \"\"\"SELECT BRANCH_ID, MAX(SALE_ID)FROM TATA_MOTORS.SALES_DATA\n",
    "WHERE WEEK(SALE_DATE) = 1\"\"\"\n",
    "\n",
    "result = cursor.execute(query)\n",
    "result = cursor.fetchall()\n",
    "\n",
    "print(tabulate(result))"
   ]
  },
  {
   "cell_type": "code",
   "execution_count": 6,
   "id": "5318e61f",
   "metadata": {},
   "outputs": [
    {
     "name": "stdout",
     "output_type": "stream",
     "text": [
      "---  --\n",
      "TOP  20\n",
      "---  --\n"
     ]
    }
   ],
   "source": [
    "# QUES 4\n",
    "query = \"\"\"SELECT C.VARIANT, COUNT(C.VARIANT) FROM  TATA_MOTORS.CAR_DETAILS C JOIN \n",
    "SALES_DATA S ON C.MODEL_NUM = S.CAR_MODEL\n",
    "WHERE WEEK(S.SALE_DATE)=1\n",
    "ORDER BY COUNT(C.VARIANT) DESC LIMIT 1;\"\"\"\n",
    "\n",
    "result = cursor.execute(query)\n",
    "result = cursor.fetchall()\n",
    "\n",
    "print(tabulate(result))"
   ]
  },
  {
   "cell_type": "code",
   "execution_count": 5,
   "id": "2a9bd184",
   "metadata": {},
   "outputs": [
    {
     "name": "stdout",
     "output_type": "stream",
     "text": [
      "-------  --\n",
      "PREMIUM  17\n",
      "-------  --\n"
     ]
    }
   ],
   "source": [
    "# QUES 5\n",
    "query = \"\"\"SELECT C.VARIANT,COUNT(C.VARIANT) FROM  TATA_MOTORS.CAR_DETAILS C JOIN \n",
    "SALES_DATA S ON C.MODEL_NUM = S.CAR_MODEL\n",
    "WHERE WEEK(S.SALE_DATE)=3 ORDER BY COUNT(C.VARIANT) ASC LIMIT 1;\"\"\"\n",
    "\n",
    "result = cursor.execute(query)\n",
    "result = cursor.fetchall()\n",
    "\n",
    "print(tabulate(result))"
   ]
  },
  {
   "cell_type": "code",
   "execution_count": 4,
   "id": "c6f29d57",
   "metadata": {},
   "outputs": [
    {
     "name": "stdout",
     "output_type": "stream",
     "text": [
      "-  --\n",
      "7  E1\n",
      "3  E2\n",
      "2  E3\n",
      "2  E4\n",
      "4  N1\n",
      "4  N2\n",
      "5  N3\n",
      "4  N4\n",
      "7  S1\n",
      "4  S2\n",
      "4  S3\n",
      "5  S4\n",
      "7  W1\n",
      "2  W2\n",
      "5  W3\n",
      "6  W4\n",
      "-  --\n"
     ]
    }
   ],
   "source": [
    "# QUES 6\n",
    "query = \"\"\"SELECT COUNT(SALE_ID), BRANCH_ID AS COUNT FROM TATA_MOTORS.SERVICE_DATA \n",
    "GROUP BY BRANCH_ID;\"\"\"\n",
    "\n",
    "result = cursor.execute(query)\n",
    "result = cursor.fetchall()\n",
    "\n",
    "print(tabulate(result))"
   ]
  }
 ],
 "metadata": {
  "kernelspec": {
   "display_name": "Python 3 (ipykernel)",
   "language": "python",
   "name": "python3"
  },
  "language_info": {
   "codemirror_mode": {
    "name": "ipython",
    "version": 3
   },
   "file_extension": ".py",
   "mimetype": "text/x-python",
   "name": "python",
   "nbconvert_exporter": "python",
   "pygments_lexer": "ipython3",
   "version": "3.10.4"
  }
 },
 "nbformat": 4,
 "nbformat_minor": 5
}
